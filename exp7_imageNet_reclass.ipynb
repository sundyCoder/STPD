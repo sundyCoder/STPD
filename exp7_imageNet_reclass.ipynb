{
 "cells": [
  {
   "cell_type": "code",
   "execution_count": null,
   "metadata": {},
   "outputs": [],
   "source": [
    "from keras.applications import inception_v3\n",
    "from keras import backend as K\n",
    "import numpy as np\n",
    "import matplotlib.pyplot as plt\n",
    "%matplotlib inline\n",
    "import pickle\n",
    "import numpy as np\n",
    "import pandas as pd\n",
    "from keras.preprocessing.image import load_img, save_img, img_to_array\n",
    "import glob as glob\n",
    "import scipy\n",
    "import argparse\n",
    "import sys, os\n",
    "\n",
    "from keras.applications import inception_v3, resnet50\n",
    "from keras import backend as K\n",
    "from keras.applications.imagenet_utils import decode_predictions, preprocess_input\n",
    "K.set_learning_phase(0)\n"
   ]
  },
  {
   "cell_type": "code",
   "execution_count": null,
   "metadata": {},
   "outputs": [],
   "source": [
    "# Load the model and include the \"top\" classification layer\n",
    "#model = inception_v3.InceptionV3(weights='imagenet',include_top=True)\n",
    "model = inception_v3.InceptionV3(weights='imagenet')"
   ]
  },
  {
   "cell_type": "code",
   "execution_count": null,
   "metadata": {},
   "outputs": [],
   "source": [
    "def preprocess_image(image_path):\n",
    "    # Util function to open, resize and format pictures\n",
    "    # into appropriate tensors.\n",
    "    img = load_img(image_path)\n",
    "    img = img_to_array(img)\n",
    "    img = np.expand_dims(img, axis=0)\n",
    "    img = inception_v3.preprocess_input(img)\n",
    "    return img\n",
    "\n",
    "\n",
    "def deprocess_image(x):\n",
    "    # Util function to convert a tensor into a valid image.\n",
    "    if K.image_data_format() == 'channels_first':\n",
    "        x = x.reshape((3, x.shape[2], x.shape[3]))\n",
    "        x = x.transpose((1, 2, 0))\n",
    "    else:\n",
    "        x = x.reshape((x.shape[1], x.shape[2], 3))\n",
    "    x /= 2.\n",
    "    x += 0.5\n",
    "    x *= 255.\n",
    "    x = np.clip(x, 0, 255).astype('uint8')\n",
    "    return x\n"
   ]
  },
  {
   "cell_type": "code",
   "execution_count": null,
   "metadata": {},
   "outputs": [],
   "source": [
    "# Should output /device:GPU:0\n",
    "K.tensorflow_backend._get_available_gpus()"
   ]
  },
  {
   "cell_type": "code",
   "execution_count": null,
   "metadata": {
    "scrolled": true
   },
   "outputs": [],
   "source": [
    "count = 0\n",
    "pred_scuss = 0\n",
    "pred_error = 0\n",
    "\n",
    "# The path of test image \n",
    "in_dir = 'imagenet_attacked/defense/'\n",
    "in_list = glob.glob(in_dir + '*.png')\n",
    "for in_name in in_list:    \n",
    "    true_class = int(os.path.basename(in_name).split('_')[1])\n",
    "    in_image = preprocess_image(in_name)    \n",
    "    probs = model.predict(in_image)\n",
    "    pred_class = np.argmax(probs)\n",
    "    if(true_class == pred_class):        \n",
    "        pred_scuss += 1\n",
    "        print(in_name,true_class, pred_class, probs[0][pred_class])\n",
    "    else:\n",
    "        pred_error += 1\n",
    "        print(in_name,true_class, pred_class, probs[0][pred_class])\n",
    "        d_img = deprocess_image(in_image)\n",
    "        out_name = in_name + '_failed.png'\n",
    "        save_img(out_name, d_img)\n",
    "        \n",
    "\n",
    "print(pred_scuss, pred_error, str(pred_scuss/(len(in_list))*100)+'%')"
   ]
  },
  {
   "cell_type": "code",
   "execution_count": null,
   "metadata": {},
   "outputs": [],
   "source": []
  }
 ],
 "metadata": {
  "kernelspec": {
   "display_name": "Python 3",
   "language": "python",
   "name": "python3"
  },
  "language_info": {
   "codemirror_mode": {
    "name": "ipython",
    "version": 3
   },
   "file_extension": ".py",
   "mimetype": "text/x-python",
   "name": "python",
   "nbconvert_exporter": "python",
   "pygments_lexer": "ipython3",
   "version": "3.6.7"
  }
 },
 "nbformat": 4,
 "nbformat_minor": 2
}
