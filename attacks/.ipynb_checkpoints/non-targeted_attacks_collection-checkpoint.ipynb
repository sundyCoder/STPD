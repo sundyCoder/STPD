{
 "cells": [
  {
   "cell_type": "code",
   "execution_count": 7,
   "metadata": {},
   "outputs": [],
   "source": [
    "\n",
    "# Python Libraries\n",
    "%matplotlib inline\n",
    "import pickle\n",
    "import numpy as np\n",
    "import pandas as pd\n",
    "import matplotlib\n",
    "from keras.datasets import cifar10\n",
    "from keras import backend as K\n",
    "\n",
    "# Custom Networks\n",
    "from networks.lenet import LeNet\n",
    "from networks.pure_cnn import PureCnn\n",
    "from networks.network_in_network import NetworkInNetwork\n",
    "from networks.resnet import ResNet\n",
    "from networks.densenet import DenseNet\n",
    "from networks.wide_resnet import WideResNet\n",
    "from networks.capsnet import CapsNet\n",
    "import cv2 as cv\n",
    "\n",
    "# Helper functions\n",
    "from differential_evolution import differential_evolution\n",
    "import helper\n",
    "#from scipy.misc import imsave\n",
    "import scipy.misc\n",
    "\n",
    "matplotlib.style.use('ggplot')\n",
    "np.random.seed(100)"
   ]
  },
  {
   "cell_type": "code",
   "execution_count": 8,
   "metadata": {},
   "outputs": [],
   "source": [
    "(x_train, y_train), (x_test, y_test) = cifar10.load_data()\n",
    "class_names = ['airplane', 'automobile', 'bird', 'cat', 'deer', 'dog', 'frog', 'horse', 'ship', 'truck']\n"
   ]
  },
  {
   "cell_type": "code",
   "execution_count": 9,
   "metadata": {},
   "outputs": [],
   "source": [
    "def perturb_image(xs, img):\n",
    "    # If this function is passed just one perturbation vector,\n",
    "    # pack it in a list to keep the computation the same\n",
    "    if xs.ndim < 2:\n",
    "        xs = np.array([xs])\n",
    "    \n",
    "    # Copy the image n == len(xs) times so that we can \n",
    "    # create n new perturbed images\n",
    "    tile = [len(xs)] + [1]*(xs.ndim+1)\n",
    "    imgs = np.tile(img, tile)\n",
    "    \n",
    "    # Make sure to floor the members of xs as int types\n",
    "    xs = xs.astype(int)\n",
    "    \n",
    "    for x,img in zip(xs, imgs):\n",
    "        # Split x into an array of 5-tuples (perturbation pixels)\n",
    "        # i.e., [[x,y,r,g,b], ...]\n",
    "        pixels = np.split(x, len(x) // 5)\n",
    "        for pixel in pixels:\n",
    "            # At each pixel's x,y position, assign its rgb value\n",
    "            x_pos, y_pos, *rgb = pixel\n",
    "            img[x_pos, y_pos] = rgb\n",
    "    \n",
    "    return imgs"
   ]
  },
  {
   "cell_type": "code",
   "execution_count": 10,
   "metadata": {},
   "outputs": [
    {
     "name": "stdout",
     "output_type": "stream",
     "text": [
      "Successfully loaded densenet\n"
     ]
    }
   ],
   "source": [
    "K.tensorflow_backend._get_available_gpus()\n",
    "#nin = NetworkInNetwork()\n",
    "#resnet = ResNet()\n",
    "densenet = DenseNet()\n",
    "\n",
    "models = [densenet]\n"
   ]
  },
  {
   "cell_type": "code",
   "execution_count": 11,
   "metadata": {},
   "outputs": [
    {
     "data": {
      "text/plain": [
       "(10000, 32, 32, 3)"
      ]
     },
     "execution_count": 11,
     "metadata": {},
     "output_type": "execute_result"
    }
   ],
   "source": [
    "x_test.shape"
   ]
  },
  {
   "cell_type": "code",
   "execution_count": 12,
   "metadata": {},
   "outputs": [],
   "source": [
    "def predict_classes(xs, img, target_class, model, minimize=True):\n",
    "    # Perturb the image with the given pixel(s) x and get the prediction of the model\n",
    "    imgs_perturbed = perturb_image(xs, img)\n",
    "    predictions = model.predict(imgs_perturbed)[:,target_class]\n",
    "    # This function should always be minimized, so return its complement if needed\n",
    "    return predictions if minimize else 1 - predictions"
   ]
  },
  {
   "cell_type": "code",
   "execution_count": 13,
   "metadata": {},
   "outputs": [],
   "source": [
    "def attack_success(x, img, target_class, model, targeted_attack=False, verbose=False):\n",
    "    # Perturb the image with the given pixel(s) and get the prediction of the model\n",
    "    attack_image = perturb_image(x, x_test[img])\n",
    "\n",
    "    confidence = model.predict(attack_image)[0]\n",
    "    predicted_class = np.argmax(confidence)\n",
    "    \n",
    "    # If the prediction is what we want (misclassification or \n",
    "    # targeted classification), return True\n",
    "    if (verbose):\n",
    "        print('Confidence:', confidence[target_class])\n",
    "    if ((targeted_attack and predicted_class == target_class) or\n",
    "        (not targeted_attack and predicted_class != target_class)):\n",
    "        return True\n",
    "    # NOTE: return None otherwise (not False), due to how Scipy handles its callback function"
   ]
  },
  {
   "cell_type": "code",
   "execution_count": 14,
   "metadata": {},
   "outputs": [],
   "source": [
    "# def save_success(img, name):\n",
    "#     scipy.misc.imsave('data/'+name + tail, img)"
   ]
  },
  {
   "cell_type": "code",
   "execution_count": 15,
   "metadata": {},
   "outputs": [],
   "source": [
    "count = 0\n",
    "import os\n",
    "def attack(img, model,cls_id, case_path, target=None, pixel_count=1, \n",
    "           maxiter=75, popsize=400,verbose=False):\n",
    "    # Change the target class based on whether this is a targeted attack or not\n",
    "    targeted_attack = target is not None\n",
    "    target_class = target if targeted_attack else y_test[img,0]\n",
    "    \n",
    "    # Define bounds for a flat vector of x,y,r,g,b values\n",
    "    # For more pixels, repeat this layout\n",
    "    bounds = [(0,32), (0,32), (0,256), (0,256), (0,256)] * pixel_count\n",
    "    \n",
    "    # Population multiplier, in terms of the size of the perturbation vector x\n",
    "    popmul = max(1, popsize // len(bounds))\n",
    "    \n",
    "    # Format the predict/callback functions for the differential evolution algorithm\n",
    "    predict_fn = lambda xs: predict_classes(\n",
    "        xs, x_test[img], target_class, model, target is None)\n",
    "    callback_fn = lambda x, convergence: attack_success(\n",
    "        x, img, target_class, model, targeted_attack, verbose)\n",
    "    \n",
    "    # Call Scipy's Implementation of Differential Evolution\n",
    "    attack_result = differential_evolution(\n",
    "        predict_fn, bounds, maxiter=maxiter, popsize=popmul,\n",
    "        recombination=1, atol=-1, callback=callback_fn, polish=False)\n",
    "\n",
    "    # Calculate some useful statistics to return from this function\n",
    "    attack_image = perturb_image(attack_result.x, x_test[img])[0]\n",
    "    prior_probs = model.predict_one(x_test[img])\n",
    "    predicted_probs = model.predict_one(attack_image)\n",
    "    predicted_class = np.argmax(predicted_probs)\n",
    "    actual_class = y_test[img,0]\n",
    "    success = predicted_class != actual_class\n",
    "    \n",
    "#     if(success):\n",
    "#         #count += 1\n",
    "#         name = 'horrse_attacked_'+str(img)+'_'+str(actual_class) +'_'+str(predicted_class)+'.png'\n",
    "#         save_success(attack_image,name)\n",
    "    \n",
    "    cdiff = prior_probs[actual_class] - predicted_probs[actual_class]\n",
    "    import scipy.misc\n",
    "    if(predicted_probs[actual_class] < 0.5):\n",
    "    # Show the best attempt at a solution (successful or not)\n",
    "        helper.plot_image(attack_image, actual_class, class_names, predicted_class)\n",
    "        #saved\n",
    "        \n",
    "        cls_name = case_path + str(cls_id)+'_'+class_names[cls_id]        \n",
    "        ori_name = cls_name + '/original/'+str(img) + '_' + str(actual_class) + '.png'\n",
    "        ori_path = cls_name + '/original/'\n",
    "        if not os.path.exists(ori_path):\n",
    "            #os.makedirs(Annotations_path)\n",
    "            os.system('mkdir -p %s' % (ori_path))\n",
    "        scipy.misc.imsave(ori_name, x_test[img])\n",
    "        at_name = cls_name + '/attacked/'+str(img) +'_'+str(actual_class) +'_'+str(predicted_class)+'.png'\n",
    "        at_path = cls_name + '/attacked/'\n",
    "        if not os.path.exists(at_path):\n",
    "            #os.makedirs(Annotations_path)\n",
    "            os.system('mkdir -p %s' %(at_path))\n",
    "        #scipy.misc.imsave(at_name, attack_image)\n",
    "        cv.imwrite(at_name, attack_image)\n",
    "        #np.savetxt('horse_cor_'+str(img)+'.txt', attack_result.x,delimiter=',')\n",
    "        #np.savetxt('test.out', x, delimiter=',')\n",
    "        print(\"success:\", prior_probs[actual_class], predicted_probs[actual_class])\n",
    "    else:\n",
    "        ok_cls_name =  case_path+str(cls_id)+'_'+class_names[cls_id]\n",
    "        ok_name = ok_cls_name + '/OK/'+str(img) +'_' + str(actual_class)+ '.png'\n",
    "        ok_path = ok_cls_name + '/OK/'\n",
    "        if not os.path.exists(ok_path):\n",
    "            #os.makedirs(Annotations_path)\n",
    "            os.system('mkdir -p %s' %(ok_path))\n",
    "        cv.imwrite(ok_name, x_test[img])\n",
    "        #scipy.misc.imsave(ok_name, x_test[img])\n",
    "    # Show the best attempt at a solution (successful or not)\n",
    "    helper.plot_image(attack_image, actual_class, class_names, predicted_class)\n",
    "\n",
    "    return [model.name, pixel_count, img, actual_class, predicted_class, success, cdiff, prior_probs, predicted_probs, attack_result.x]"
   ]
  },
  {
   "cell_type": "code",
   "execution_count": 18,
   "metadata": {
    "scrolled": true
   },
   "outputs": [
    {
     "name": "stdout",
     "output_type": "stream",
     "text": [
      "605\n",
      "Confidence: 1.0\n",
      "Confidence: 1.0\n",
      "Confidence: 1.0\n",
      "Confidence: 1.0\n",
      "Confidence: 1.0\n",
      "Confidence: 1.0\n",
      "Confidence: 1.0\n",
      "Confidence: 1.0\n",
      "Confidence: 1.0\n",
      "Confidence: 1.0\n",
      "Confidence: 1.0\n",
      "Confidence: 1.0\n",
      "Confidence: 1.0\n",
      "Confidence: 1.0\n",
      "Confidence: 1.0\n",
      "Confidence: 1.0\n",
      "Confidence: 1.0\n",
      "Confidence: 1.0\n",
      "Confidence: 1.0\n",
      "Confidence: 1.0\n",
      "Confidence: 1.0\n",
      "Confidence: 1.0\n",
      "Confidence: 1.0\n",
      "Confidence: 1.0\n",
      "Confidence: 1.0\n",
      "Confidence: 1.0\n",
      "Confidence: 1.0\n",
      "Confidence: 1.0\n",
      "Confidence: 1.0\n",
      "Confidence: 1.0\n",
      "Confidence: 1.0\n",
      "Confidence: 1.0\n",
      "Confidence: 1.0\n",
      "Confidence: 1.0\n",
      "Confidence: 1.0\n",
      "Confidence: 1.0\n",
      "Confidence: 1.0\n",
      "Confidence: 1.0\n",
      "Confidence: 1.0\n",
      "Confidence: 1.0\n",
      "Confidence: 1.0\n",
      "Confidence: 1.0\n",
      "Confidence: 1.0\n",
      "Confidence: 1.0\n",
      "Confidence: 1.0\n",
      "Confidence: 1.0\n",
      "Confidence: 1.0\n",
      "Confidence: 1.0\n",
      "Confidence: 1.0\n",
      "Confidence: 1.0\n",
      "Confidence: 1.0\n",
      "Confidence: 1.0\n",
      "Confidence: 1.0\n",
      "Confidence: 1.0\n",
      "Confidence: 1.0\n",
      "Confidence: 1.0\n",
      "Confidence: 1.0\n",
      "Confidence: 1.0\n",
      "Confidence: 1.0\n",
      "Confidence: 1.0\n",
      "Confidence: 1.0\n",
      "Confidence: 1.0\n",
      "Confidence: 1.0\n",
      "Confidence: 1.0\n",
      "Confidence: 1.0\n",
      "Confidence: 1.0\n",
      "Confidence: 1.0\n",
      "Confidence: 1.0\n",
      "Confidence: 1.0\n",
      "Confidence: 1.0\n",
      "Confidence: 1.0\n",
      "Confidence: 1.0\n",
      "Confidence: 1.0\n",
      "Confidence: 1.0\n",
      "Confidence: 1.0\n"
     ]
    },
    {
     "data": {
      "image/png": "[encoded data removed]",
      "text/plain": [
       "<Figure size 432x288 with 1 Axes>"
      ]
     },
     "metadata": {},
     "output_type": "display_data"
    },
    {
     "name": "stdout",
     "output_type": "stream",
     "text": [
      "606\n",
      "Confidence: 0.99993694\n",
      "Confidence: 0.99991846\n",
      "Confidence: 0.9992747\n",
      "Confidence: 0.9992747\n",
      "Confidence: 0.9992747\n",
      "Confidence: 0.9992747\n",
      "Confidence: 0.9992747\n",
      "Confidence: 0.9992747\n",
      "Confidence: 0.9992747\n",
      "Confidence: 0.9991253\n",
      "Confidence: 0.9991253\n",
      "Confidence: 0.9969797\n",
      "Confidence: 0.9963666\n",
      "Confidence: 0.99418205\n",
      "Confidence: 0.99418205\n",
      "Confidence: 0.99418205\n",
      "Confidence: 0.99418205\n",
      "Confidence: 0.99418205\n",
      "Confidence: 0.9940749\n",
      "Confidence: 0.99360824\n",
      "Confidence: 0.99360824\n",
      "Confidence: 0.99360824\n",
      "Confidence: 0.99291974\n",
      "Confidence: 0.99291974\n",
      "Confidence: 0.99291974\n",
      "Confidence: 0.99291974\n",
      "Confidence: 0.9928504\n",
      "Confidence: 0.9928504\n",
      "Confidence: 0.9923798\n",
      "Confidence: 0.99197197\n",
      "Confidence: 0.99197197\n",
      "Confidence: 0.9919286\n",
      "Confidence: 0.9916352\n",
      "Confidence: 0.9914929\n",
      "Confidence: 0.9914929\n",
      "Confidence: 0.9914929\n",
      "Confidence: 0.9914507\n",
      "Confidence: 0.99116534\n",
      "Confidence: 0.99116534\n",
      "Confidence: 0.99116534\n",
      "Confidence: 0.99116534\n",
      "Confidence: 0.99116534\n",
      "Confidence: 0.99116534\n",
      "Confidence: 0.99116534\n",
      "Confidence: 0.99116534\n",
      "Confidence: 0.99116534\n",
      "Confidence: 0.99116534\n",
      "Confidence: 0.99116534\n",
      "Confidence: 0.99116534\n",
      "Confidence: 0.99116534\n",
      "Confidence: 0.99116534\n",
      "Confidence: 0.99116534\n",
      "Confidence: 0.99116534\n",
      "Confidence: 0.99116534\n",
      "Confidence: 0.99116534\n",
      "Confidence: 0.99116534\n",
      "Confidence: 0.99116534\n",
      "Confidence: 0.99116534\n",
      "Confidence: 0.99116534\n",
      "Confidence: 0.99116534\n",
      "Confidence: 0.99116534\n",
      "Confidence: 0.99116534\n",
      "Confidence: 0.99116534\n",
      "Confidence: 0.99116534\n",
      "Confidence: 0.99116534\n",
      "Confidence: 0.99116534\n",
      "Confidence: 0.99116534\n",
      "Confidence: 0.99116534\n",
      "Confidence: 0.99116534\n",
      "Confidence: 0.99116534\n",
      "Confidence: 0.99116534\n",
      "Confidence: 0.99116534\n",
      "Confidence: 0.99116534\n",
      "Confidence: 0.99116534\n",
      "Confidence: 0.99116534\n"
     ]
    },
    {
     "data": {
      "image/png": "[encoded data removed]",
      "text/plain": [
       "<Figure size 432x288 with 1 Axes>"
      ]
     },
     "metadata": {},
     "output_type": "display_data"
    },
    {
     "name": "stdout",
     "output_type": "stream",
     "text": [
      "607\n",
      "Confidence: 0.0005649056\n"
     ]
    },
    {
     "data": {
      "image/png": "[encoded data removed]",
      "text/plain": [
       "<Figure size 432x288 with 1 Axes>"
      ]
     },
     "metadata": {},
     "output_type": "display_data"
    },
    {
     "ename": "AttributeError",
     "evalue": "module 'scipy.misc' has no attribute 'imsave'",
     "output_type": "error",
     "traceback": [
      "\u001b[0;31m---------------------------------------------------------------------------\u001b[0m",
      "\u001b[0;31mAttributeError\u001b[0m                            Traceback (most recent call last)",
      "\u001b[0;32m<ipython-input-18-b8086df78ac1>\u001b[0m in \u001b[0;36m<module>\u001b[0;34m\u001b[0m\n\u001b[1;32m     17\u001b[0m     \u001b[0mcls\u001b[0m \u001b[0;34m=\u001b[0m \u001b[0my_test\u001b[0m\u001b[0;34m[\u001b[0m\u001b[0mi\u001b[0m\u001b[0;34m]\u001b[0m\u001b[0;34m[\u001b[0m\u001b[0;36m0\u001b[0m\u001b[0;34m]\u001b[0m\u001b[0;34m\u001b[0m\u001b[0;34m\u001b[0m\u001b[0m\n\u001b[1;32m     18\u001b[0m     \u001b[0mimage\u001b[0m \u001b[0;34m=\u001b[0m \u001b[0mi\u001b[0m\u001b[0;34m\u001b[0m\u001b[0;34m\u001b[0m\u001b[0m\n\u001b[0;32m---> 19\u001b[0;31m     \u001b[0m_\u001b[0m \u001b[0;34m=\u001b[0m \u001b[0mattack\u001b[0m\u001b[0;34m(\u001b[0m\u001b[0mimage\u001b[0m\u001b[0;34m,\u001b[0m \u001b[0mmodel\u001b[0m\u001b[0;34m,\u001b[0m \u001b[0mcls\u001b[0m\u001b[0;34m,\u001b[0m \u001b[0mcase_path\u001b[0m\u001b[0;34m,\u001b[0m\u001b[0mpixel_count\u001b[0m\u001b[0;34m=\u001b[0m\u001b[0mpixels\u001b[0m\u001b[0;34m,\u001b[0m\u001b[0mverbose\u001b[0m\u001b[0;34m=\u001b[0m\u001b[0;32mTrue\u001b[0m\u001b[0;34m)\u001b[0m\u001b[0;34m\u001b[0m\u001b[0;34m\u001b[0m\u001b[0m\n\u001b[0m",
      "\u001b[0;32m<ipython-input-15-014739078c81>\u001b[0m in \u001b[0;36mattack\u001b[0;34m(img, model, cls_id, case_path, target, pixel_count, maxiter, popsize, verbose)\u001b[0m\n\u001b[1;32m     51\u001b[0m             \u001b[0;31m#os.makedirs(Annotations_path)\u001b[0m\u001b[0;34m\u001b[0m\u001b[0;34m\u001b[0m\u001b[0;34m\u001b[0m\u001b[0m\n\u001b[1;32m     52\u001b[0m             \u001b[0mos\u001b[0m\u001b[0;34m.\u001b[0m\u001b[0msystem\u001b[0m\u001b[0;34m(\u001b[0m\u001b[0;34m'mkdir -p %s'\u001b[0m \u001b[0;34m%\u001b[0m \u001b[0;34m(\u001b[0m\u001b[0mori_path\u001b[0m\u001b[0;34m)\u001b[0m\u001b[0;34m)\u001b[0m\u001b[0;34m\u001b[0m\u001b[0;34m\u001b[0m\u001b[0m\n\u001b[0;32m---> 53\u001b[0;31m         \u001b[0mscipy\u001b[0m\u001b[0;34m.\u001b[0m\u001b[0mmisc\u001b[0m\u001b[0;34m.\u001b[0m\u001b[0mimsave\u001b[0m\u001b[0;34m(\u001b[0m\u001b[0mori_name\u001b[0m\u001b[0;34m,\u001b[0m \u001b[0mx_test\u001b[0m\u001b[0;34m[\u001b[0m\u001b[0mimg\u001b[0m\u001b[0;34m]\u001b[0m\u001b[0;34m)\u001b[0m\u001b[0;34m\u001b[0m\u001b[0;34m\u001b[0m\u001b[0m\n\u001b[0m\u001b[1;32m     54\u001b[0m         \u001b[0mat_name\u001b[0m \u001b[0;34m=\u001b[0m \u001b[0mcls_name\u001b[0m \u001b[0;34m+\u001b[0m \u001b[0;34m'/attacked/'\u001b[0m\u001b[0;34m+\u001b[0m\u001b[0mstr\u001b[0m\u001b[0;34m(\u001b[0m\u001b[0mimg\u001b[0m\u001b[0;34m)\u001b[0m \u001b[0;34m+\u001b[0m\u001b[0;34m'_'\u001b[0m\u001b[0;34m+\u001b[0m\u001b[0mstr\u001b[0m\u001b[0;34m(\u001b[0m\u001b[0mactual_class\u001b[0m\u001b[0;34m)\u001b[0m \u001b[0;34m+\u001b[0m\u001b[0;34m'_'\u001b[0m\u001b[0;34m+\u001b[0m\u001b[0mstr\u001b[0m\u001b[0;34m(\u001b[0m\u001b[0mpredicted_class\u001b[0m\u001b[0;34m)\u001b[0m\u001b[0;34m+\u001b[0m\u001b[0;34m'.png'\u001b[0m\u001b[0;34m\u001b[0m\u001b[0;34m\u001b[0m\u001b[0m\n\u001b[1;32m     55\u001b[0m         \u001b[0mat_path\u001b[0m \u001b[0;34m=\u001b[0m \u001b[0mcls_name\u001b[0m \u001b[0;34m+\u001b[0m \u001b[0;34m'/attacked/'\u001b[0m\u001b[0;34m\u001b[0m\u001b[0;34m\u001b[0m\u001b[0m\n",
      "\u001b[0;31mAttributeError\u001b[0m: module 'scipy.misc' has no attribute 'imsave'"
     ]
    }
   ],
   "source": [
    "# pixels = 1 # Number of pixels to attack\n",
    "# model = resnet\n",
    "\n",
    "# for i in range(10000):\n",
    "#     if(y_test[i] == 0):\n",
    "#         image = i\n",
    "#         cls = 0\n",
    "#         _ = attack(image, model, cls, pixel_count=pixels,verbose=True)\n",
    "\n",
    "\n",
    "pixels = 1 # Number of pixels to attack\n",
    "model = densenet\n",
    "case_path = 'densenet_data_p1/'\n",
    "for i in range(10000):    \n",
    "    print(i)\n",
    "    cls = y_test[i][0]\n",
    "    image = i    \n",
    "    _ = attack(image, model, cls, case_path,pixel_count=pixels,verbose=True)"
   ]
  },
  {
   "cell_type": "code",
   "execution_count": 1,
   "metadata": {},
   "outputs": [
    {
     "data": {
      "text/plain": [
       "603"
      ]
     },
     "execution_count": 1,
     "metadata": {},
     "output_type": "execute_result"
    }
   ],
   "source": [
    "15+52+6+40+28+30+29+27+22+29+33+30+13+57+16+41+10+54+8+63"
   ]
  },
  {
   "cell_type": "code",
   "execution_count": null,
   "metadata": {},
   "outputs": [],
   "source": [
    "print(y_test.shap)"
   ]
  },
  {
   "cell_type": "code",
   "execution_count": null,
   "metadata": {},
   "outputs": [],
   "source": []
  }
 ],
 "metadata": {
  "anaconda-cloud": {},
  "kernelspec": {
   "display_name": "Python 3",
   "language": "python",
   "name": "python3"
  },
  "language_info": {
   "codemirror_mode": {
    "name": "ipython",
    "version": 3
   },
   "file_extension": ".py",
   "mimetype": "text/x-python",
   "name": "python",
   "nbconvert_exporter": "python",
   "pygments_lexer": "ipython3",
   "version": "3.6.7"
  }
 },
 "nbformat": 4,
 "nbformat_minor": 1
}
