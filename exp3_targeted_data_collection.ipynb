{
 "cells": [
  {
   "cell_type": "code",
   "execution_count": null,
   "metadata": {},
   "outputs": [],
   "source": [
    "\n",
    "# Python Libraries\n",
    "%matplotlib inline\n",
    "import pickle\n",
    "import numpy as np\n",
    "import pandas as pd\n",
    "import matplotlib\n",
    "from keras.datasets import cifar10\n",
    "from keras import backend as K\n",
    "import os,sys\n",
    "#import Pillow\n",
    "\n",
    "# Custom Networks\n",
    "#from networks.lenet import LeNet\n",
    "#sys.path.append('./')\n",
    "from networks.pure_cnn import PureCnn\n",
    "from networks.network_in_network import NetworkInNetwork\n",
    "from networks.resnet import ResNet\n",
    "from networks.densenet import DenseNet\n",
    "from networks.wide_resnet import WideResNet\n",
    "from networks.capsnet import CapsNet\n",
    "\n",
    "# Helper functions\n",
    "from differential_evolution import differential_evolution\n",
    "import helper\n",
    "import scipy.misc\n",
    "\n",
    "#from scipy.misc import imsave\n",
    "\n",
    "matplotlib.style.use('ggplot')\n",
    "np.random.seed(100)\n",
    "\n",
    "def load_results():\n",
    "    with open('networks/results/targeted_results.pkl', 'rb') as file:\n",
    "        targeted = pickle.load(file)\n",
    "    return targeted"
   ]
  },
  {
   "cell_type": "code",
   "execution_count": null,
   "metadata": {},
   "outputs": [],
   "source": [
    "(x_train, y_train), (x_test, y_test) = cifar10.load_data()\n",
    "class_names = ['airplane', 'automobile', 'bird', 'cat', 'deer', 'dog', 'frog', 'horse', 'ship', 'truck']\n",
    "\n",
    "K.tensorflow_backend._get_available_gpus()\n",
    "#nin = NetworkInNetwork()\n",
    "resnet = ResNet()\n",
    "#densenet = DenseNet()\n",
    "\n",
    "models = [resnet]\n"
   ]
  },
  {
   "cell_type": "code",
   "execution_count": null,
   "metadata": {},
   "outputs": [],
   "source": [
    "network_stats, correct_imgs = helper.evaluate_models(models, x_test, y_test)\n",
    "correct_imgs = pd.DataFrame(correct_imgs, columns=['name', 'img', 'label', 'confidence', 'pred'])\n",
    "network_stats = pd.DataFrame(network_stats, columns=['name', 'accuracy', 'param_count'])\n",
    "\n",
    "network_stats"
   ]
  },
  {
   "cell_type": "code",
   "execution_count": null,
   "metadata": {},
   "outputs": [],
   "source": [
    "targeted = load_results()"
   ]
  },
  {
   "cell_type": "code",
   "execution_count": null,
   "metadata": {},
   "outputs": [],
   "source": [
    "columns = ['model', 'pixels', 'image', 'true', 'predicted', 'success', 'cdiff', 'prior_probs', 'predicted_probs', 'perturbation']\n",
    "\n",
    "targeted_results = pd.DataFrame(targeted, columns=columns)"
   ]
  },
  {
   "cell_type": "code",
   "execution_count": null,
   "metadata": {},
   "outputs": [],
   "source": [
    "\n",
    "stats = []\n",
    "for model in models:\n",
    "    print(models)\n",
    "    val_accuracy = np.array(network_stats[network_stats.name == model.name].accuracy)[0]\n",
    "    m_result = targeted_results[targeted_results.model == model.name]\n",
    "    pixels = list(set(m_result.pixels))\n",
    "    print(model,pixels)\n",
    "    for pixel in pixels:\n",
    "        p_result = m_result[m_result.pixels == pixel]\n",
    "        success_rate = len(p_result[p_result.success]) / len(p_result)\n",
    "        print(len(p_result[p_result.success]))\n",
    "        print(len(p_result))\n",
    "        stats.append([model.name, val_accuracy, pixel, success_rate])\n",
    "\n",
    "#helper.attack_stats(targeted_results, models, network_stats)"
   ]
  },
  {
   "cell_type": "code",
   "execution_count": null,
   "metadata": {},
   "outputs": [],
   "source": [
    "model.name"
   ]
  },
  {
   "cell_type": "code",
   "execution_count": null,
   "metadata": {},
   "outputs": [],
   "source": [
    "def visualize_attack(df, class_names):\n",
    "    _, (x_test, _) = cifar10.load_data()\n",
    "\n",
    "    results = df[df.success]#.sample(9)\n",
    "    print(results.shape)\n",
    "    \n",
    "    z = zip(results.perturbation, x_test[results.image])\n",
    "    images = np.array([perturb_image(p, img)[0]\n",
    "                       for p,img in z])\n",
    "     \n",
    "    labels_true = np.array(results.true)\n",
    "    labels_pred = np.array(results.predicted)\n",
    "    #titles = np.array(results.model)"
   ]
  },
  {
   "cell_type": "code",
   "execution_count": null,
   "metadata": {},
   "outputs": [],
   "source": [
    "def perturb_image(xs, img):\n",
    "    # If this function is passed just one perturbation vector,\n",
    "    # pack it in a list to keep the computation the same\n",
    "    if xs.ndim < 2:\n",
    "        xs = np.array([xs])\n",
    "    \n",
    "    # Copy the image n == len(xs) times so that we can \n",
    "    # create n new perturbed images\n",
    "    tile = [len(xs)] + [1]*(xs.ndim+1)\n",
    "    imgs = np.tile(img, tile)\n",
    "    \n",
    "    # Make sure to floor the members of xs as int types\n",
    "    xs = xs.astype(int)\n",
    "    \n",
    "    for x,img in zip(xs, imgs):\n",
    "        # Split x into an array of 5-tuples (perturbation pixels)\n",
    "        # i.e., [[x,y,r,g,b], ...]\n",
    "        pixels = np.split(x, len(x) // 5)\n",
    "        for pixel in pixels:\n",
    "            # At each pixel's x,y position, assign its rgb value\n",
    "            x_pos, y_pos, *rgb = pixel\n",
    "            img[x_pos, y_pos] = rgb\n",
    "    \n",
    "    return imgs"
   ]
  },
  {
   "cell_type": "code",
   "execution_count": null,
   "metadata": {},
   "outputs": [],
   "source": [
    "# print('Targeted Attack')\n",
    "# helper.visualize_attack(targeted_results, class_names)\n",
    "model_id = model.name\n",
    "pixel_id = 5\n",
    "_, (x_test, _) = cifar10.load_data()\n",
    "results = targeted_results[targeted_results.success]\n",
    "#print(results.model)\n",
    "results = results[results.model==model.name]\n",
    "results = results[results.pixels==pixel_id]\n",
    "print(results.shape)\n",
    "\n",
    "z = zip(results.perturbation, x_test[results.image])\n",
    "images = np.array([perturb_image(p, img)[0] for p,img in z])\n",
    "labels_true = np.array(results.true)\n",
    "labels_pred = np.array(results.predicted)\n",
    "\n",
    "image_id = [id for id in results.image]\n",
    "count = 0\n",
    "for i in range(len(labels_true)):\n",
    "    name = str(count)+'_'+str(image_id[i])+'_'+str(labels_true[i])+'_'+str(labels_pred[i])+'.png'\n",
    "    image = images[i]\n",
    "    print(name)\n",
    "    #import cv2 as cv\n",
    "    out_path = 'non_'+model_id+'_p'+str(pixel_id)+'/'\n",
    "    if not os.path.exists(out_path):\n",
    "        os.system(\"mkdir -p %s\"%(out_path))\n",
    "    out_name = out_path + name\n",
    "    #cv.imwrite(out_name, image)\n",
    "    from PIL import Image\n",
    "    im = Image.fromarray(image)\n",
    "    print(out_name)\n",
    "    im.save(out_name)\n",
    "    count += 1\n",
    "    #import imageio\n",
    "    #imageio.imwrite(out_name,image)\n",
    "    #imsave(out_name,image)"
   ]
  },
  {
   "cell_type": "code",
   "execution_count": null,
   "metadata": {},
   "outputs": [],
   "source": [
    "results"
   ]
  }
 ],
 "metadata": {
  "kernelspec": {
   "display_name": "Python 3",
   "language": "python",
   "name": "python3"
  },
  "language_info": {
   "codemirror_mode": {
    "name": "ipython",
    "version": 3
   },
   "file_extension": ".py",
   "mimetype": "text/x-python",
   "name": "python",
   "nbconvert_exporter": "python",
   "pygments_lexer": "ipython3",
   "version": "3.6.7"
  }
 },
 "nbformat": 4,
 "nbformat_minor": 2
}
