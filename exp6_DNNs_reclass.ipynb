{
 "cells": [
  {
   "cell_type": "code",
   "execution_count": null,
   "metadata": {},
   "outputs": [],
   "source": [
    "# Python Libraries\n",
    "%matplotlib inline\n",
    "import pickle,os\n",
    "import numpy as np\n",
    "import pandas as pd\n",
    "import matplotlib\n",
    "from keras.datasets import cifar10\n",
    "from keras import backend as K\n",
    "from scipy import misc\n",
    "from matplotlib import pyplot as plt\n",
    "import cv2 as cv\n",
    "# Custom Networks\n",
    "from networks.lenet import LeNet\n",
    "from networks.pure_cnn import PureCnn\n",
    "from networks.network_in_network import NetworkInNetwork\n",
    "from networks.resnet import ResNet\n",
    "from networks.densenet import DenseNet\n",
    "from networks.wide_resnet import WideResNet\n",
    "from networks.capsnet import CapsNet\n",
    "K.tensorflow_backend._get_available_gpus()\n",
    "import glob as glob\n",
    "#nw_in_nw = NetworkInNetwork()\n",
    "resnet = ResNet()\n",
    "#denseNet = DenseNet()\n",
    "model = resnet\n",
    "\n",
    "class_names = ['airplane', 'automobile', 'bird', 'cat', 'deer', 'dog', 'frog', 'horse', 'ship', 'truck']\n",
    "\n",
    "sum_count = 0\n",
    "sum_all = 0\n",
    "for no,cls_name in zip(range(10),class_names):    \n",
    "    denoise_path = 'resnet/resnet_data_p1/' + str(no)+'_'+cls_name+'/defense/'    \n",
    "    denoise_img = glob.glob(denoise_path + '*.png')\n",
    "    count = 0\n",
    "    sum_img = len(denoise_img)\n",
    "    for img in denoise_img:\n",
    "        test_mat = cv.imread(img,1) \n",
    "        test_mat = cv.cvtColor(test_mat,cv.COLOR_BGR2RGB) # model need RGB format data\n",
    "        scores = model.predict_one(test_mat)\n",
    "        index = np.argmax(scores)\n",
    "        if(index == no):\n",
    "            count += 1\n",
    "        else:\n",
    "            cv.imwrite(img+'_failed.png',test_mat)\n",
    "    print(denoise_path)\n",
    "    print(count/sum_img)\n",
    "    print(count)\n",
    "    print(sum_img)\n",
    "    sum_count += count\n",
    "    sum_all += sum_img\n",
    "\n",
    "print(sum_count, sum_all, sum_count/sum_all)"
   ]
  }
 ],
 "metadata": {
  "kernelspec": {
   "display_name": "Python 3",
   "language": "python",
   "name": "python3"
  },
  "language_info": {
   "codemirror_mode": {
    "name": "ipython",
    "version": 3
   },
   "file_extension": ".py",
   "mimetype": "text/x-python",
   "name": "python",
   "nbconvert_exporter": "python",
   "pygments_lexer": "ipython3",
   "version": "3.6.7"
  }
 },
 "nbformat": 4,
 "nbformat_minor": 2
}
